{
 "cells": [
  {
   "cell_type": "code",
   "execution_count": 1,
   "metadata": {},
   "outputs": [],
   "source": [
    "import pandas as pd\n",
    "from textblob import TextBlob\n",
    "import matplotlib.pyplot as plt\n"
   ]
  },
  {
   "cell_type": "code",
   "execution_count": 2,
   "metadata": {},
   "outputs": [],
   "source": [
    "# Sentiment analysis function\n",
    "def sentimentAnalyzer(text):\n",
    "    blob = TextBlob(text)\n",
    "    score = blob.sentiment.polarity\n",
    "    if score < -0.2:\n",
    "        return 'Negative'\n",
    "    elif score <= 0.2:\n",
    "        return 'Neutral'\n",
    "    else:\n",
    "        return 'Positive'\n"
   ]
  },
  {
   "cell_type": "code",
   "execution_count": 3,
   "metadata": {},
   "outputs": [
    {
     "name": "stdout",
     "output_type": "stream",
     "text": [
      "Word: happy, Expected Sentiment: Positive, Result: Positive\n",
      "Word: exciting, Expected Sentiment: Positive, Result: Positive\n",
      "Word: good, Expected Sentiment: Positive, Result: Positive\n",
      "Word: rich, Expected Sentiment: Positive, Result: Positive\n",
      "Word: smile, Expected Sentiment: Positive, Result: Positive\n",
      "Word: sad, Expected Sentiment: Negative, Result: Negative\n",
      "Word: disappointed, Expected Sentiment: Negative, Result: Negative\n",
      "Word: bad, Expected Sentiment: Negative, Result: Negative\n",
      "Word: poor, Expected Sentiment: Negative, Result: Negative\n",
      "Word: anger, Expected Sentiment: Negative, Result: Negative\n",
      "Word: food, Expected Sentiment: Neutral, Result: Neutral\n",
      "Word: animal, Expected Sentiment: Neutral, Result: Neutral\n"
     ]
    }
   ],
   "source": [
    "# Test the sentiment analyzer\n",
    "test_words = {\n",
    "    'happy': 'Positive', 'exciting': 'Positive', 'good': 'Positive', 'rich': 'Positive', 'smile': 'Positive',\n",
    "    'sad': 'Negative', 'disappointed': 'Negative', 'bad': 'Negative', 'poor': 'Negative', 'anger': 'Negative',\n",
    "    'food': 'Neutral', 'animal': 'Neutral'\n",
    "}\n",
    "\n",
    "for word, expected_sentiment in test_words.items():\n",
    "    result = sentimentAnalyzer(word)\n",
    "    print(f\"Word: {word}, Expected Sentiment: {expected_sentiment}, Result: {result}\")\n"
   ]
  },
  {
   "cell_type": "code",
   "execution_count": 4,
   "metadata": {},
   "outputs": [
    {
     "name": "stdout",
     "output_type": "stream",
     "text": [
      "Apple iPhone 4s 8GB Unlocked Smartphone w/ 8MP Camera, White (Certified Refurbished)                                    1451\n",
      "Apple MF259LL/A - iPhone 4s 8GB / 8MP Camera - Unlocked - Black (Certified Refurbished)                                 1241\n",
      "BLU Studio 5.0 C HD Unlocked Cellphone, Black                                                                           1194\n",
      "OtterBox Iphone 5/5S/SE Defender Case w/ Drop and Dust Proctection - Realtree AP Pink                                   1129\n",
      "Motorola Moto E (1st Generation) - Black - 4 GB - Global GSM Unlocked Phone                                             1127\n",
      "                                                                                                                        ... \n",
      "Samsung Galaxy express Prime Unlocked 4G LTE J320A 16GB Quad Core LCD 5\" Android 6.0 Desbloqueado                          1\n",
      "Samsung Galaxy J1 Ace J111M 8GB Unlocked GSM Quad-Core Android LolliPop Smartphone - Black (International Version)         1\n",
      "Samsung Galaxy J1 Ace J111M 8GB Unlocked GSM Quad-Core Android LolliPop Smartphone - White (International Version)         1\n",
      "Samsung Galaxy J1 Ace J111M LTE Dual Sim 8gb (White)                                                                       1\n",
      "BLUBOO Maya Max 32GB 6.0 Inch Android 6.0 Smartphone, MTK6750 Octa Core 1.5GHz, 3GB RAM GSM & WCDMA & FDD-LTE (Gold)       1\n",
      "Name: Product Name, Length: 4410, dtype: int64\n"
     ]
    }
   ],
   "source": [
    "df = pd.read_csv('Amazon_Unlocked_Mobile.csv')\n",
    "\n",
    "# Display available products and their review counts\n",
    "product_counts = df['Product Name'].value_counts()\n",
    "print(product_counts)\n"
   ]
  },
  {
   "cell_type": "code",
   "execution_count": 5,
   "metadata": {},
   "outputs": [
    {
     "name": "stdout",
     "output_type": "stream",
     "text": [
      "Product Name: Apple iPhone 4s 8GB Unlocked Smartphone w/ 8MP Camera, White (Certified Refurbished)\n",
      "Number of Rows: 1448\n",
      "Number of Columns: 6\n",
      "Length of the Shortest Review: 1\n",
      "Length of the Longest Review: 1465\n",
      "Average Length of Reviews: 107.60\n"
     ]
    }
   ],
   "source": [
    "# Drop rows with missing values in the 'Reviews' column\n",
    "df = df.dropna(subset=['Reviews'])\n",
    "\n",
    "# Select Apple iPhone 4s 8GB Unlocked Smartphone w/ 8MP Camera, White (Certified Refurbished) for analysis\n",
    "product_name = 'Apple iPhone 4s 8GB Unlocked Smartphone w/ 8MP Camera, White (Certified Refurbished)'\n",
    "filtered_df = df[df['Product Name'] == product_name]\n",
    "\n",
    "if filtered_df.empty:\n",
    "    print(f\"No reviews found for the product {product_name}\")\n",
    "else:\n",
    "    # Data description\n",
    "    num_rows = len(filtered_df)\n",
    "    num_cols = filtered_df.shape[1]\n",
    "    review_lengths = filtered_df['Reviews'].apply(len)\n",
    "    min_length = review_lengths.min()\n",
    "    max_length = review_lengths.max()\n",
    "    avg_length = review_lengths.mean()\n",
    "\n",
    "    print(f\"Product Name: {product_name}\")\n",
    "    print(f\"Number of Rows: {num_rows}\")\n",
    "    print(f\"Number of Columns: {num_cols}\")\n",
    "    print(f\"Length of the Shortest Review: {min_length}\")\n",
    "    print(f\"Length of the Longest Review: {max_length}\")\n",
    "    print(f\"Average Length of Reviews: {avg_length:.2f}\")\n"
   ]
  },
  {
   "cell_type": "code",
   "execution_count": 6,
   "metadata": {},
   "outputs": [
    {
     "name": "stderr",
     "output_type": "stream",
     "text": [
      "/var/folders/t9/szcm0qvn2z17fcycb2cf863m0000gn/T/ipykernel_5507/2367116964.py:3: SettingWithCopyWarning: \n",
      "A value is trying to be set on a copy of a slice from a DataFrame.\n",
      "Try using .loc[row_indexer,col_indexer] = value instead\n",
      "\n",
      "See the caveats in the documentation: https://pandas.pydata.org/pandas-docs/stable/user_guide/indexing.html#returning-a-view-versus-a-copy\n",
      "  filtered_df['Sentiment'] = filtered_df['Reviews'].apply(sentimentAnalyzer)\n"
     ]
    }
   ],
   "source": [
    "# Sentiment Analysis applied to the filtered data\n",
    "if not filtered_df.empty:\n",
    "    filtered_df['Sentiment'] = filtered_df['Reviews'].apply(sentimentAnalyzer)\n"
   ]
  },
  {
   "cell_type": "code",
   "execution_count": 7,
   "metadata": {},
   "outputs": [
    {
     "data": {
      "image/png": "[encoded data removed]",
      "text/plain": [
       "<Figure size 640x480 with 1 Axes>"
      ]
     },
     "metadata": {},
     "output_type": "display_data"
    },
    {
     "name": "stdout",
     "output_type": "stream",
     "text": [
      "Positive    768\n",
      "Neutral     570\n",
      "Negative    110\n",
      "Name: Sentiment, dtype: int64\n",
      "Sentiment: Positive, Review: good buy, Polarity: 0.7\n",
      "Sentiment: Negative, Review: Bad batery, Polarity: -0.6999999999999998\n",
      "Sentiment: Neutral, Review: I bought and send to Africa the two are not working, Polarity: 0.0\n",
      "Total Negative Reviews: 110\n",
      "Total Positive Reviews: 768\n",
      "Total Neutral Reviews: 570\n",
      "Review: The Battery is not lasting for more than two hours, Rating: 1, Sentiment: Positive\n",
      "Polarity: 0.25\n",
      "Review: It is not unlocked, i love my virgin mobile iphone and it took a dive the last week so i got this as a replacement because in the details it said it was both gms and cdmc compatible. It is locked into verizon and i now have to spend more money on a prepaid contract that doesnt even work for me which is a big strain on my budget. Cant afford to return and can't wait for a new phone, very dissapointed., Rating: 1, Sentiment: Positive\n",
      "Polarity: 0.2227272727272727\n",
      "Review: The information for this item said it was BSM unlocked and would work with Tmobile.It did NOT! So I asked for and was able to get a full refund., Rating: 2, Sentiment: Positive\n",
      "Polarity: 0.425\n",
      "Review: buy two phones refurbished and have received USED micas screen with marks and scratches from use of protective liners or cases , the metal bezel with many brands use too. that just hurts the just received in Venezuela if not immediately returned ., Rating: 1, Sentiment: Positive\n",
      "Polarity: 0.5\n",
      "Review: placed in the description that are new, and come with many stripes and details. DealFisher seller, Rating: 2, Sentiment: Positive\n",
      "Polarity: 0.3181818181818182\n",
      "Review: After 5 full discharge and 5 full charge, I get just over 48 hours of stand-by time of battery life. According to the specifications I found on line, the stand-by time should be closer to 200 hours. This is the last time I purchase any refurbished product., Rating: 1, Sentiment: Positive\n",
      "Polarity: 0.2333333333333333\n",
      "Review: The good news is that it was an unlocked phone. And I was able to go to any carrier to start it up.The bad news is that it does not have a good battery life. The phone loses its charge very quickly!, Rating: 2, Sentiment: Positive\n",
      "Polarity: 0.2402777777777778\n",
      "Review: I LOVE, Rating: 2, Sentiment: Positive\n",
      "Polarity: 0.5\n",
      "Review: Phone did not hold a charge. 2 stars though for easily being able to return it., Rating: 2, Sentiment: Positive\n",
      "Polarity: 0.4666666666666667\n",
      "Review: This phone did not maintain its charge more than 2 hours and after a month it died never to turn on again., Rating: 1, Sentiment: Positive\n",
      "Polarity: 0.5\n",
      "Review: The phone died right after the ninety days, Rating: 1, Sentiment: Positive\n",
      "Polarity: 0.2857142857142857\n",
      "Review: had a virus or something and caused me significant inconvenience., Rating: 1, Sentiment: Positive\n",
      "Polarity: 0.375\n",
      "Review: Cosmetically really nice phone... My ringer stopped working, the signal through MetroPCS on the phone sucked. Plus had to buy an extra charger after 2weeks of using it because the charger started falling apart., Rating: 1, Sentiment: Positive\n",
      "Polarity: 0.3\n",
      "Review: Its ok, Rating: 1, Sentiment: Positive\n",
      "Polarity: 0.5\n",
      "Review: The phone wasn't working good at all. Be full charge and it dies any secound even 100%., Rating: 1, Sentiment: Positive\n",
      "Polarity: 0.5249999999999999\n",
      "Review: Fast delivery, though one week of use battery not holding charge and now just completely DIED. Didn't come with all accessories as stated and cheap replacement charger. Returning, Rating: 2, Sentiment: Positive\n",
      "Polarity: 0.23333333333333336\n",
      "Review: i love it lol, Rating: 1, Sentiment: Positive\n",
      "Polarity: 0.65\n",
      "Review: Frequent crashes! Not reliable with catching available wifi!, Rating: 2, Sentiment: Positive\n",
      "Polarity: 0.4083333333333334\n",
      "Review: My auxiliary cord and headphones will not plug into my phone. Very bummed out. Can't workout with my phone or listen to good music with it. After a few days the microphone no longer works so people cannot hear me. Avoid this company at all costs., Rating: 1, Sentiment: Positive\n",
      "Polarity: 0.2333333333333333\n",
      "Review: Good afternoon amazon, the iphone was received in good physical conditions but with some marks, however the phone is desactivated and the screen indicates to conect it to a pc by using itunes, I tried to activate it through iTunes without success. The iphone is inoperative. Plase i hope you can help me so i can use the article i bought., Rating: 1, Sentiment: Positive\n",
      "Polarity: 0.425\n",
      "Review: Tried to activate this so called \"Unlocked\" phone with Verizon.The phone is still locked by AT&T.My opinion of this seller should be easy guess., Rating: 1, Sentiment: Positive\n",
      "Polarity: 0.43333333333333335\n",
      "Review: I had to return it. It was full of scratches., Rating: 1, Sentiment: Positive\n",
      "Polarity: 0.35\n",
      "Review: I write pretty good worried because last week received the cell phone to buy him but it does not work because it does not connect to the wireless network as hacerpara that we could change me, Rating: 1, Sentiment: Positive\n",
      "Polarity: 0.31666666666666665\n",
      "Review: Holding right now, took a friggen week to get it, supposed to be unlocked, it aint, verizon phone, gonna try again to get service., Rating: 1, Sentiment: Positive\n",
      "Polarity: 0.2857142857142857\n",
      "Review: The phone itself seemed fine. I wasn't able to tell if it was network-unlocked or not because the phone had an activation lock...definitely not something you expect from a certified refurbished phone., Rating: 2, Sentiment: Positive\n",
      "Polarity: 0.45833333333333337\n",
      "Review: This was a gift for my wife and she is happy with it but. Everything works fine except for wi-fi, that is greyed out and not usable. Just google wi-fi issues on iPhone 4s and you will see what I mean. You make your own mind on this one, Rating: 2, Sentiment: Positive\n",
      "Polarity: 0.3760416666666667\n",
      "Review: DO NOT BUY THIS IPHONE !I've had it for two weeks and is a piece of junk:-The audio does not work most of the time (especially when using headphones).-It does not connect to Wi-Fi at times.-Safari app crashes constantly.-Battery runs out quickly once it reaches 50 %. Do not buy it. Be smart and buy a new one. I am returning this piece of junk., Rating: 1, Sentiment: Positive\n",
      "Polarity: 0.23679653679653673\n",
      "Review: Good evening I'm just receiving this iPhone and it's a Verizon iPhone and it's locked.. I need your help to return this item and buy the unlocked cell..., Rating: 1, Sentiment: Positive\n",
      "Polarity: 0.7\n",
      "Review: It looked fine but after couple of days there is no media sound. It went to head set mode and could not reset back to normal. Hardware problem????, Rating: 1, Sentiment: Positive\n",
      "Polarity: 0.24166666666666667\n",
      "Review: My first review on Amazon after being a customer for over a decade. This is a total fraud, the charger is cheap off the street, as for apple packaging see the picture of attached box and the plastic sleeve it came in., Rating: 1, Sentiment: Positive\n",
      "Polarity: 0.21666666666666667\n",
      "Review: The phone looks great but it get hot when it used to make phone calls., Rating: 1, Sentiment: Positive\n",
      "Polarity: 0.525\n",
      "Review: the iphone does not work, its not been 2 or 3 months I bought it and it does not work at all now.. gets switched off even with full battery, and screen shows loading sign with no other display..., Rating: 1, Sentiment: Positive\n",
      "Polarity: 0.20625\n",
      "Review: everything is good clean no straches--however, the battery doesnt hold a charge longer than about three hours at a time, Rating: 2, Sentiment: Positive\n",
      "Polarity: 0.5333333333333333\n",
      "Review: The Battery goes out in 10 minute with a full charge and the processor doesn't function right, it freezes and stuff. It worked okay for about 1 month., Rating: 1, Sentiment: Positive\n",
      "Polarity: 0.37857142857142856\n",
      "Review: Phone did not hold a charge. 2 stars though for easily being able to return it., Rating: 2, Sentiment: Positive\n",
      "Polarity: 0.4666666666666667\n",
      "Review: buy two phones refurbished and have received USED micas screen with marks and scratches from use of protective liners or cases , the metal bezel with many brands use too. that just hurts the just received in Venezuela if not immediately returned ., Rating: 1, Sentiment: Positive\n",
      "Polarity: 0.5\n",
      "Review: i love it lol, Rating: 1, Sentiment: Positive\n",
      "Polarity: 0.65\n",
      "Review: Just after the return window ended my phone ceased function! The speaker and microphone no longer work nor does the headphone jack. Very displeased!, Rating: 1, Sentiment: Positive\n",
      "Polarity: 0.25\n",
      "Review: It is not unlocked, i love my virgin mobile iphone and it took a dive the last week so i got this as a replacement because in the details it said it was both gms and cdmc compatible. It is locked into verizon and i now have to spend more money on a prepaid contract that doesnt even work for me which is a big strain on my budget. Cant afford to return and can't wait for a new phone, very dissapointed., Rating: 1, Sentiment: Positive\n",
      "Polarity: 0.2227272727272727\n",
      "Review: Frequent crashes! Not reliable with catching available wifi!, Rating: 2, Sentiment: Positive\n",
      "Polarity: 0.4083333333333334\n",
      "Review: Its ok, Rating: 1, Sentiment: Positive\n",
      "Polarity: 0.5\n",
      "Review: placed in the description that are new, and come with many stripes and details. DealFisher seller, Rating: 2, Sentiment: Positive\n",
      "Polarity: 0.3181818181818182\n",
      "Review: After 5 full discharge and 5 full charge, I get just over 48 hours of stand-by time of battery life. According to the specifications I found on line, the stand-by time should be closer to 200 hours. This is the last time I purchase any refurbished product., Rating: 1, Sentiment: Positive\n",
      "Polarity: 0.2333333333333333\n",
      "Review: The good news is that it was an unlocked phone. And I was able to go to any carrier to start it up.The bad news is that it does not have a good battery life. The phone loses its charge very quickly!, Rating: 2, Sentiment: Positive\n",
      "Polarity: 0.2402777777777778\n",
      "Review: Fast delivery, though one week of use battery not holding charge and now just completely DIED. Didn't come with all accessories as stated and cheap replacement charger. Returning, Rating: 2, Sentiment: Positive\n",
      "Polarity: 0.23333333333333336\n",
      "Review: The Battery is not lasting for more than two hours, Rating: 1, Sentiment: Positive\n",
      "Polarity: 0.25\n",
      "Review: had a virus or something and caused me significant inconvenience., Rating: 1, Sentiment: Positive\n",
      "Polarity: 0.375\n",
      "Review: I had to send this back because it would not go past the welcome screen. As I was entering language, location, and the beginning of the WiFi router and password, it would cycle back to the welcome screen and start all over again. I first thought it was happening because the phone was not fully charged, so I charged it over night. It continued to persist, so I sent the phone back.As soon as I brought it to a UPS store, I was credited the amount I spent., Rating: 1, Sentiment: Positive\n",
      "Polarity: 0.21428571428571427\n",
      "Review: Phone died and won't turn on after 92 days (90 day warranty). Very dissapointed! I contacted the seller and hoping they will still honor the warranty although I am 2 days over...I will post and update..., Rating: 1, Sentiment: Positive\n",
      "Polarity: 0.25\n",
      "Review: Phone would not hold a charge so I had to purchase a solid battery from a reputable seller., Rating: 1, Sentiment: Positive\n",
      "Polarity: 0.25\n",
      "Review: The information for this item said it was BSM unlocked and would work with Tmobile.It did NOT! So I asked for and was able to get a full refund., Rating: 2, Sentiment: Positive\n",
      "Polarity: 0.425\n",
      "Review: The phone wasn't working good at all. Be full charge and it dies any secound even 100%., Rating: 1, Sentiment: Positive\n",
      "Polarity: 0.5249999999999999\n",
      "Review: Purchased the phone in February and it died today April 14. Exactly a month from its return window. Save your money!, Rating: 1, Sentiment: Positive\n",
      "Polarity: 0.3125\n",
      "Review: This phone did not maintain its charge more than 2 hours and after a month it died never to turn on again., Rating: 1, Sentiment: Positive\n",
      "Polarity: 0.5\n",
      "Review: I LOVE, Rating: 2, Sentiment: Positive\n",
      "Polarity: 0.5\n",
      "Review: The phone died right after the ninety days, Rating: 1, Sentiment: Positive\n",
      "Polarity: 0.2857142857142857\n"
     ]
    }
   ],
   "source": [
    "# Visualization and Insights\n",
    "if not filtered_df.empty:\n",
    "    # Visualization\n",
    "    sentiment_counts = filtered_df['Sentiment'].value_counts()\n",
    "    sentiment_counts.plot(kind='bar', color=['green', 'blue', 'red'])\n",
    "    plt.title('Sentiment Analysis of Reviews')\n",
    "    plt.xlabel('Sentiment')\n",
    "    plt.ylabel('Number of Reviews')\n",
    "    plt.show()\n",
    "\n",
    "    # Results summary\n",
    "    print(sentiment_counts)\n",
    "\n",
    "    # Examples of reviews with different sentiments\n",
    "    examples = {\n",
    "        'Positive': filtered_df[filtered_df['Sentiment'] == 'Positive'].iloc[0]['Reviews'],\n",
    "        'Negative': filtered_df[filtered_df['Sentiment'] == 'Negative'].iloc[0]['Reviews'],\n",
    "        'Neutral': filtered_df[filtered_df['Sentiment'] == 'Neutral'].iloc[0]['Reviews']\n",
    "    }\n",
    "    \n",
    "    for sentiment, review in examples.items():\n",
    "        blob = TextBlob(review)\n",
    "        polarity = blob.sentiment.polarity\n",
    "        print(f\"Sentiment: {sentiment}, Review: {review}, Polarity: {polarity}\")\n",
    "\n",
    "    # Insights for the client\n",
    "    negative_reviews = filtered_df[filtered_df['Sentiment'] == 'Negative']\n",
    "    positive_reviews = filtered_df[filtered_df['Sentiment'] == 'Positive']\n",
    "    neutral_reviews = filtered_df[filtered_df['Sentiment'] == 'Neutral']\n",
    "\n",
    "    print(f\"Total Negative Reviews: {len(negative_reviews)}\")\n",
    "    print(f\"Total Positive Reviews: {len(positive_reviews)}\")\n",
    "    print(f\"Total Neutral Reviews: {len(neutral_reviews)}\")\n",
    "\n",
    "    # Reviews where TextBlob might have assigned the wrong sentiment\n",
    "    incorrect_reviews = filtered_df[(filtered_df['Sentiment'] == 'Positive') & (filtered_df['Rating'] <= 2)]\n",
    "    for index, row in incorrect_reviews.iterrows():\n",
    "        print(f\"Review: {row['Reviews']}, Rating: {row['Rating']}, Sentiment: {row['Sentiment']}\")\n",
    "        print(f\"Polarity: {TextBlob(row['Reviews']).sentiment.polarity}\")\n",
    "\n"
   ]
  },
  {
   "cell_type": "code",
   "execution_count": 8,
   "metadata": {},
   "outputs": [],
   "source": [
    "filtered_df.to_csv('sentiment_analysis_results.csv', index=False)"
   ]
  },
  {
   "cell_type": "code",
   "execution_count": null,
   "metadata": {},
   "outputs": [],
   "source": []
  }
 ],
 "metadata": {
  "kernelspec": {
   "display_name": "Python 3",
   "language": "python",
   "name": "python3"
  },
  "language_info": {
   "codemirror_mode": {
    "name": "ipython",
    "version": 3
   },
   "file_extension": ".py",
   "mimetype": "text/x-python",
   "name": "python",
   "nbconvert_exporter": "python",
   "pygments_lexer": "ipython3",
   "version": "3.11.5"
  }
 },
 "nbformat": 4,
 "nbformat_minor": 2
}
